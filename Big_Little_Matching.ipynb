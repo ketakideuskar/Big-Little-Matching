{
 "cells": [
  {
   "cell_type": "code",
   "execution_count": 41,
   "id": "miniature-geometry",
   "metadata": {
    "scrolled": true
   },
   "outputs": [],
   "source": [
    "import gspread\n",
    "from oauth2client.service_account import ServiceAccountCredentials\n",
    "from collections import OrderedDict\n",
    "import pprint"
   ]
  },
  {
   "cell_type": "code",
   "execution_count": 42,
   "id": "assisted-publication",
   "metadata": {},
   "outputs": [],
   "source": [
    "# functions used for adding points when attribute can choose multiple options\n",
    "# the \"littles\" parameter refers to all the answers chosen by the specific little \n",
    "# the \"bigs\" parameter refers to all the answers chosen by the specific big\n",
    "# the \"point\" parameter refers to the point we should allocate if there's a match in the big and little's answers\n",
    "def matching_list(littles, bigs, point):\n",
    "    points = 0\n",
    "    for little in littles:\n",
    "        if little != \"No Preference\":\n",
    "            for big in bigs:\n",
    "                if little == big:\n",
    "                    points += point\n",
    "    return points"
   ]
  },
  {
   "cell_type": "code",
   "execution_count": 43,
   "id": "oriental-island",
   "metadata": {},
   "outputs": [],
   "source": [
    "# functions used for adding points when attribute can choose only single option\n",
    "# the \"littles\" parameter refers to the specific answer chosen by the specific little \n",
    "# the \"bigs\" parameter refers to the specific answers chosen by the specific big\n",
    "# the \"point\" parameter refers to the point we should allocate if there's a match in the big and little's answer\n",
    "def matching(littles, bigs, point):\n",
    "    points = 0\n",
    "    if littles == bigs:\n",
    "        points += point\n",
    "    return points"
   ]
  },
  {
   "cell_type": "code",
   "execution_count": 44,
   "id": "crucial-singing",
   "metadata": {},
   "outputs": [],
   "source": [
    "# setting up the authorization so we can edit the google spreadsheet using some python libraries :) \n",
    "scope = ['https://spreadsheets.google.com/feeds' + ' ' +'https://www.googleapis.com/auth/drive']\n",
    "creds = ServiceAccountCredentials.from_json_keyfile_name('client_secret.json', scope)\n",
    "client = gspread.authorize(creds)"
   ]
  },
  {
   "cell_type": "code",
   "execution_count": 45,
   "id": "consolidated-railway",
   "metadata": {},
   "outputs": [],
   "source": [
    "# opens the sheets\n",
    "# make sure you create the \"matching\" sheet as well\n",
    "# make sure all of these spreadsheets have the client_email from client_secret.json shared as well\n",
    "little_sheet = client.open('little_sheet').sheet1\n",
    "big_sheet = client.open('big_sheet').sheet1\n",
    "matches = client.open('matches')\n",
    "\n",
    "# importing all the values from the spreadsheet into the program!\n",
    "littles = little_sheet.get_all_values()\n",
    "bigs = big_sheet.get_all_values()"
   ]
  },
  {
   "cell_type": "code",
   "execution_count": 46,
   "id": "binding-vitamin",
   "metadata": {},
   "outputs": [],
   "source": [
    "# map to store all bigs who didn't get matched with anyone\n",
    "bigs_left = []"
   ]
  },
  {
   "cell_type": "code",
   "execution_count": 47,
   "id": "thirty-listening",
   "metadata": {},
   "outputs": [],
   "source": [
    "# add all bigs to bigs-left set since we haven't matched any bigs yet at the start\n",
    "# note that each \"big\" in bigs list contains all the forms information of that partiuclar big\n",
    "# the big[1] allows us to store the email of the big. You may need to use a different index other than \n",
    "# \"1\" to get the email if the format of the spreadsheet changes\n",
    "for big in bigs[1:len(bigs)]:\n",
    "    bigs_left.append(big[1])   "
   ]
  },
  {
   "cell_type": "code",
   "execution_count": 48,
   "id": "8333d63d",
   "metadata": {},
   "outputs": [],
   "source": [
    "# make sure to check you selected an email of a big in the bigs_left list\n",
    "# I've commented this out for privacy reasons if I upload this to a github // shared it publicly\n",
    "# but uncomment below and check it yourself!\n",
    "# bigs[1][1]"
   ]
  },
  {
   "cell_type": "code",
   "execution_count": 49,
   "id": "homeless-first",
   "metadata": {},
   "outputs": [
    {
     "data": {
      "text/plain": [
       "24"
      ]
     },
     "execution_count": 49,
     "metadata": {},
     "output_type": "execute_result"
    }
   ],
   "source": [
    "# make sure to check this to ensure you've got all the bigs who signed up covered!!\n",
    "len(bigs_left)"
   ]
  },
  {
   "cell_type": "code",
   "execution_count": 50,
   "id": "elect-oracle",
   "metadata": {},
   "outputs": [],
   "source": [
    "# Setting up the data structures to map the littles to bigs\n",
    "d = {}\n",
    "\n",
    "# Using lists so we can take advantage of indexing to make it easier to compare class standings\n",
    "class_standings = [\"Freshman\", \"Sophomore\", \"Junior\", \"Senior\", \"BS/MS\"]\n",
    "mapping = OrderedDict(sorted(d.items(), key=lambda t: t[0]))"
   ]
  },
  {
   "cell_type": "code",
   "execution_count": 51,
   "id": "victorian-ferry",
   "metadata": {},
   "outputs": [],
   "source": [
    "# we are creating an object to store the worksheet that we made earlier\n",
    "# matches refers to the \"matches\" spreadsheet that will store the bigs and littles maching\n",
    "worksheet = matches.get_worksheet(0)"
   ]
  },
  {
   "cell_type": "code",
   "execution_count": 62,
   "id": "faec7066",
   "metadata": {},
   "outputs": [],
   "source": [
    "# this map allows us to map each big's email to the number of littles they want\n",
    "# this is necessary for us in order to make sure each big gets the number of littles they desire\n",
    "bigs_num_littles_wanted = dict()\n",
    "\n",
    "for big in bigs[1:len(bigs)]:\n",
    "    bigs_num_littles_wanted[big[1]] = big[5]"
   ]
  },
  {
   "cell_type": "code",
   "execution_count": 53,
   "id": "expressed-square",
   "metadata": {},
   "outputs": [
    {
     "name": "stdout",
     "output_type": "stream",
     "text": [
      "['gelo@cs.washington.edu']\n"
     ]
    }
   ],
   "source": [
    "# Here, we basically score each little against all the bigs and rank all the bigs based on the points\n",
    "# When you run this ipython cell, you will get all the ranking resuslts on the matching spreadsheet\n",
    "# Note that the very left-most column represents the littles and all the number and email pair represents\n",
    "# the Bigs that were ranked against the little\n",
    "row = 1 \n",
    "\n",
    "# matching each little against all the bigs\n",
    "cell_list = []\n",
    "for little in littles[1:len(littles)]:\n",
    "    \n",
    "    # usualy email to uniquely identify each little\n",
    "    key = little[1]\n",
    "    mapping[key] = []\n",
    "    \n",
    "    # IMPORTANT* Make SURE to check all these indexing again to see if it matches up with the actual column in the \n",
    "    # spreadsheet\n",
    "    little_class = little[9]\n",
    "    little_preferred_interaction = little[10]\n",
    "    little_event_attendance = little[11]\n",
    "    little_hours = little[12]\n",
    "    little_classes_taken  = little[13].split(', ')\n",
    "    \n",
    "    little_background = little[15].split(\", \")\n",
    "    little_gender = little[16].split(', ')\n",
    "    little_lgbtq = little[17].split(', ')\n",
    "    little_race = little[18].split(', ')\n",
    "    little_experience = little[19].split(', ')\n",
    "    little_interest = little[20].split(', ')\n",
    "    \n",
    "    little_q1 = little[21]\n",
    "    little_q2 = little[22]\n",
    "    little_q3 = little[23]\n",
    "    little_q4 = little[24]\n",
    "    little_q5 = little[25]\n",
    "    little_q6 = little[26]\n",
    "    little_q7 = little[27]\n",
    "    little_q8 = little[28]\n",
    "    little_q9 = little[29]\n",
    "    little_q10 = little[30]\n",
    "\n",
    "    # make sure to increment this so that we are parsing through each little\n",
    "    row += 1\n",
    "    col = 1\n",
    "    big_list = []\n",
    "    \n",
    "    # this allows us to compare some little to all the bigs\n",
    "    for big in bigs[1:len(bigs)]:\n",
    "        # comparing class standing\n",
    "        points = 0\n",
    "        \n",
    "        # check this again to make sure \n",
    "        big_class = big[9]\n",
    "        big_classes_taken = big[13].split(', ')\n",
    "        \n",
    "        # Ensuring Littles are always a class year below\n",
    "        if ((class_standings.index(big_class) - class_standings.index(little_class)) > 0):   \n",
    "            # Ensuring Bigs always took more classes than the Little\n",
    "            if len(big_classes_taken) > len(little_classes_taken):\n",
    "                \n",
    "                big_preferred_interaction = big[10]\n",
    "                big_event_attendance = big[11]\n",
    "                big_hours = big[12]\n",
    "                big_background = big[15].split(\", \")\n",
    "\n",
    "                big_gender = big[16].split(', ')\n",
    "                big_lgbtq = big[17].split(', ')\n",
    "                big_race = big[18].split(', ')\n",
    "                big_experience = big[19].split(', ')\n",
    "                big_interest = big[20].split(', ')\n",
    "\n",
    "                big_q1 = big[21]\n",
    "                big_q2 = big[22]\n",
    "                big_q3 = big[23]\n",
    "                big_q4 = big[24]\n",
    "                big_q5 = big[25]\n",
    "                big_q6 = big[26]\n",
    "                big_q7 = big[27]\n",
    "                big_q8 = big[28]\n",
    "                big_q9 = big[29]\n",
    "                big_q10 = big[30]\n",
    "            \n",
    "            \n",
    "                # this part is important as this determines how much point we give for each category\n",
    "                points += matching_list(big_background, little_background, 7)\n",
    "                points += matching(big_gender, little_gender, 7)\n",
    "                points += matching(big_lgbtq, little_lgbtq, 7)\n",
    "                points += matching(big_race, little_race, 7)\n",
    "                points += matching(big_hours, little_hours, 2.5)     \n",
    "                points += matching(big_experience, little_experience, 2)\n",
    "                points += matching(big_event_attendance, little_event_attendance, 1.5)\n",
    "                points += matching(big_preferred_interaction, little_preferred_interaction, 1)\n",
    "                points += matching(big_interest, little_interest, 1)\n",
    "            \n",
    "                # just 0.5 points since these are side questions\n",
    "                points += matching(big_q1, little_q1, 0.5)\n",
    "                points += matching(big_q2, little_q2, 0.5)\n",
    "                points += matching(big_q3, little_q3, 0.5)\n",
    "                points += matching(big_q4, little_q4, 0.5)\n",
    "                points += matching(big_q5, little_q5, 0.5)\n",
    "                points += matching(big_q6, little_q6, 0.5)\n",
    "                points += matching(big_q7, little_q7, 0.5)\n",
    "                points += matching(big_q8, little_q8, 0.5)\n",
    "                points += matching(big_q9, little_q9, 0.5)\n",
    "                points += matching(big_q10, little_q10, 0.5)\n",
    "                    \n",
    "                # add big to map\n",
    "                big_list.append([points, big[1]])\n",
    "\n",
    "    # sorts bigs based on the number of points they have\n",
    "    sorted_list = sorted(big_list, key=lambda x: x[0], reverse=True)  \n",
    "    for big in sorted_list:\n",
    "        mapping[key].append(big[0]) # points\n",
    "        mapping[key].append(big[1]) # cse email\n",
    "    values = mapping[key]\n",
    "    values = [key] + values\n",
    "    \n",
    "    # google sheets goes from A-Z\n",
    "    if (len(values) > 26):\n",
    "        values = values[0:25]\n",
    "    \n",
    "    # discard big from bigs left\n",
    "    for big in values:\n",
    "        if big in bigs_left:\n",
    "            bigs_left.remove(big)\n",
    "        \n",
    "    end_col = chr(ord('A') + len(values) - 1)\n",
    "    col_range = 'A' + str(row) + ':' + end_col + str(row)\n",
    "    if (len(values) == 0):\n",
    "        col_range = 'A' + str(row)\n",
    "    curr_val = {'range': col_range, 'values': [values]}\n",
    "    cell_list.append(curr_val)\n",
    "\n",
    "# adding to spreadsheet\n",
    "worksheet.batch_update(cell_list)\n",
    "\n",
    "# prints the bigs who didn't get matched to any little\n",
    "# may need to manually match these people or pool the littles andd bigs again and run the algorithm\n",
    "print(bigs_left)"
   ]
  },
  {
   "cell_type": "markdown",
   "id": "fitted-exclusive",
   "metadata": {},
   "source": [
    "# Based off the match ranking, the code below actually pairs each big to little"
   ]
  },
  {
   "cell_type": "code",
   "execution_count": 56,
   "id": "running-clearance",
   "metadata": {},
   "outputs": [],
   "source": [
    "# opens the sheets \n",
    "# make sure you create the \"matching\" sheet as well\n",
    "# make sure all of these documents have the client_email shared with them as well\n",
    "match_sheet = client.open('matches').get_worksheet(0)\n",
    "matches = match_sheet.get_all_values()\n",
    "\n",
    "pairing = client.open('Big / Little Pairing')"
   ]
  },
  {
   "cell_type": "code",
   "execution_count": 58,
   "id": "extended-lloyd",
   "metadata": {},
   "outputs": [],
   "source": [
    "# creating the sheet object so we can update the spreadsheet later\n",
    "worksheet = pairing.get_worksheet(0)"
   ]
  },
  {
   "cell_type": "code",
   "execution_count": 67,
   "id": "broad-arbitration",
   "metadata": {},
   "outputs": [
    {
     "data": {
      "text/plain": [
       "24"
      ]
     },
     "execution_count": 67,
     "metadata": {},
     "output_type": "execute_result"
    }
   ],
   "source": [
    "# map to store all bigs who didn't get matched with anyone\n",
    "bigs_left = []\n",
    "\n",
    "# resetting the bigs-left set \n",
    "for big in bigs[1:len(bigs)]:\n",
    "    bigs_left.append(big[1])\n",
    "\n",
    "len(bigs_left)"
   ]
  },
  {
   "cell_type": "code",
   "execution_count": 71,
   "id": "compliant-copying",
   "metadata": {
    "scrolled": true
   },
   "outputs": [
    {
     "name": "stdout",
     "output_type": "stream",
     "text": [
      "0\n",
      "1\n",
      "2\n",
      "3\n",
      "4\n",
      "5\n",
      "6\n",
      "7\n",
      "8\n",
      "9\n",
      "10\n",
      "11\n",
      "12\n",
      "13\n",
      "14\n",
      "15\n",
      "16\n",
      "17\n",
      "18\n",
      "19\n",
      "20\n"
     ]
    }
   ],
   "source": [
    "# this maps each big's email (key) to the list of little's email (value)\n",
    "big_map = {}\n",
    "little_not_paired = set()\n",
    "# 1 indicates little was paired, 0 indicates little was not paired\n",
    "flag_paired = 0\n",
    "count = 0\n",
    "row = 1 \n",
    "\n",
    "# based on the matches spreadsheet, we go through each row, matching each little with the highest ranked\n",
    "# big in the row. If the big is already up to capacity (i.e. wanted 3 littles and got matched with 3 already), we move\n",
    "# to the next best ranked big\n",
    "for i in range(1, len(matches)):\n",
    "    match = matches[i]\n",
    "    little_key = match[0]\n",
    "    \n",
    "    # going through each ranked big\n",
    "    for j in range(2, len(match), 2):\n",
    "        big_key = match[j]\n",
    "        \n",
    "        # checking if the big is in the dictionary\n",
    "        # if so, check if they have any room to add littles\n",
    "        # If they do have room for more littles, add the little to the big\n",
    "        if big_key in big_map:\n",
    "            mapped_littles = big_map[big_key]\n",
    "            \n",
    "            # remember that bigs_num_littles_wanted is a map that maps the email of the big\n",
    "            # to the number of littles they want! \n",
    "            #if len(mapped_littles) < int(bigs_num_littles_wanted[big_key]):\n",
    "            \n",
    "            # update for Spring 2022: since there nearly a 1:1 distribution between Littles and Big\n",
    "            # I (Hayoung) decided to let every Big have exactly 1 Little\n",
    "            if len(mapped_littles) < 1:\n",
    "                big_map[big_key].append(little_key)\n",
    "                flag_paired = 1\n",
    "                break\n",
    "        else:   # add big to the dictionary along with the little \n",
    "            big_map[big_key] = [little_key]\n",
    "            if big_key in bigs_left:\n",
    "                bigs_left.remove(big_key)\n",
    "            flag_paired = 1\n",
    "            print(count)\n",
    "            count += 1\n",
    "            break\n",
    "    \n",
    "    \n",
    "    if flag_paired == 0:\n",
    "        little_not_paired.add(little_key)\n",
    "    else:\n",
    "        flag_paired = 0"
   ]
  },
  {
   "cell_type": "code",
   "execution_count": 72,
   "id": "complex-antenna",
   "metadata": {
    "scrolled": true
   },
   "outputs": [
    {
     "data": {
      "text/plain": [
       "set()"
      ]
     },
     "execution_count": 72,
     "metadata": {},
     "output_type": "execute_result"
    }
   ],
   "source": [
    "little_not_paired"
   ]
  },
  {
   "cell_type": "code",
   "execution_count": 75,
   "id": "moral-tradition",
   "metadata": {},
   "outputs": [],
   "source": [
    "#bigs_left"
   ]
  },
  {
   "cell_type": "code",
   "execution_count": 76,
   "id": "australian-milton",
   "metadata": {
    "scrolled": true
   },
   "outputs": [
    {
     "data": {
      "text/plain": [
       "{'spreadsheetId': '1IvgG1h9JZogSwbcx1sJyfOIiRpCztl7Ohef5J1JxANc',\n",
       " 'totalUpdatedRows': 21,\n",
       " 'totalUpdatedColumns': 2,\n",
       " 'totalUpdatedCells': 42,\n",
       " 'totalUpdatedSheets': 1,\n",
       " 'responses': [{'spreadsheetId': '1IvgG1h9JZogSwbcx1sJyfOIiRpCztl7Ohef5J1JxANc',\n",
       "   'updatedRange': 'Sheet1!A1:B1',\n",
       "   'updatedRows': 1,\n",
       "   'updatedColumns': 2,\n",
       "   'updatedCells': 2},\n",
       "  {'spreadsheetId': '1IvgG1h9JZogSwbcx1sJyfOIiRpCztl7Ohef5J1JxANc',\n",
       "   'updatedRange': 'Sheet1!A2:B2',\n",
       "   'updatedRows': 1,\n",
       "   'updatedColumns': 2,\n",
       "   'updatedCells': 2},\n",
       "  {'spreadsheetId': '1IvgG1h9JZogSwbcx1sJyfOIiRpCztl7Ohef5J1JxANc',\n",
       "   'updatedRange': 'Sheet1!A3:B3',\n",
       "   'updatedRows': 1,\n",
       "   'updatedColumns': 2,\n",
       "   'updatedCells': 2},\n",
       "  {'spreadsheetId': '1IvgG1h9JZogSwbcx1sJyfOIiRpCztl7Ohef5J1JxANc',\n",
       "   'updatedRange': 'Sheet1!A4:B4',\n",
       "   'updatedRows': 1,\n",
       "   'updatedColumns': 2,\n",
       "   'updatedCells': 2},\n",
       "  {'spreadsheetId': '1IvgG1h9JZogSwbcx1sJyfOIiRpCztl7Ohef5J1JxANc',\n",
       "   'updatedRange': 'Sheet1!A5:B5',\n",
       "   'updatedRows': 1,\n",
       "   'updatedColumns': 2,\n",
       "   'updatedCells': 2},\n",
       "  {'spreadsheetId': '1IvgG1h9JZogSwbcx1sJyfOIiRpCztl7Ohef5J1JxANc',\n",
       "   'updatedRange': 'Sheet1!A6:B6',\n",
       "   'updatedRows': 1,\n",
       "   'updatedColumns': 2,\n",
       "   'updatedCells': 2},\n",
       "  {'spreadsheetId': '1IvgG1h9JZogSwbcx1sJyfOIiRpCztl7Ohef5J1JxANc',\n",
       "   'updatedRange': 'Sheet1!A7:B7',\n",
       "   'updatedRows': 1,\n",
       "   'updatedColumns': 2,\n",
       "   'updatedCells': 2},\n",
       "  {'spreadsheetId': '1IvgG1h9JZogSwbcx1sJyfOIiRpCztl7Ohef5J1JxANc',\n",
       "   'updatedRange': 'Sheet1!A8:B8',\n",
       "   'updatedRows': 1,\n",
       "   'updatedColumns': 2,\n",
       "   'updatedCells': 2},\n",
       "  {'spreadsheetId': '1IvgG1h9JZogSwbcx1sJyfOIiRpCztl7Ohef5J1JxANc',\n",
       "   'updatedRange': 'Sheet1!A9:B9',\n",
       "   'updatedRows': 1,\n",
       "   'updatedColumns': 2,\n",
       "   'updatedCells': 2},\n",
       "  {'spreadsheetId': '1IvgG1h9JZogSwbcx1sJyfOIiRpCztl7Ohef5J1JxANc',\n",
       "   'updatedRange': 'Sheet1!A10:B10',\n",
       "   'updatedRows': 1,\n",
       "   'updatedColumns': 2,\n",
       "   'updatedCells': 2},\n",
       "  {'spreadsheetId': '1IvgG1h9JZogSwbcx1sJyfOIiRpCztl7Ohef5J1JxANc',\n",
       "   'updatedRange': 'Sheet1!A11:B11',\n",
       "   'updatedRows': 1,\n",
       "   'updatedColumns': 2,\n",
       "   'updatedCells': 2},\n",
       "  {'spreadsheetId': '1IvgG1h9JZogSwbcx1sJyfOIiRpCztl7Ohef5J1JxANc',\n",
       "   'updatedRange': 'Sheet1!A12:B12',\n",
       "   'updatedRows': 1,\n",
       "   'updatedColumns': 2,\n",
       "   'updatedCells': 2},\n",
       "  {'spreadsheetId': '1IvgG1h9JZogSwbcx1sJyfOIiRpCztl7Ohef5J1JxANc',\n",
       "   'updatedRange': 'Sheet1!A13:B13',\n",
       "   'updatedRows': 1,\n",
       "   'updatedColumns': 2,\n",
       "   'updatedCells': 2},\n",
       "  {'spreadsheetId': '1IvgG1h9JZogSwbcx1sJyfOIiRpCztl7Ohef5J1JxANc',\n",
       "   'updatedRange': 'Sheet1!A14:B14',\n",
       "   'updatedRows': 1,\n",
       "   'updatedColumns': 2,\n",
       "   'updatedCells': 2},\n",
       "  {'spreadsheetId': '1IvgG1h9JZogSwbcx1sJyfOIiRpCztl7Ohef5J1JxANc',\n",
       "   'updatedRange': 'Sheet1!A15:B15',\n",
       "   'updatedRows': 1,\n",
       "   'updatedColumns': 2,\n",
       "   'updatedCells': 2},\n",
       "  {'spreadsheetId': '1IvgG1h9JZogSwbcx1sJyfOIiRpCztl7Ohef5J1JxANc',\n",
       "   'updatedRange': 'Sheet1!A16:B16',\n",
       "   'updatedRows': 1,\n",
       "   'updatedColumns': 2,\n",
       "   'updatedCells': 2},\n",
       "  {'spreadsheetId': '1IvgG1h9JZogSwbcx1sJyfOIiRpCztl7Ohef5J1JxANc',\n",
       "   'updatedRange': 'Sheet1!A17:B17',\n",
       "   'updatedRows': 1,\n",
       "   'updatedColumns': 2,\n",
       "   'updatedCells': 2},\n",
       "  {'spreadsheetId': '1IvgG1h9JZogSwbcx1sJyfOIiRpCztl7Ohef5J1JxANc',\n",
       "   'updatedRange': 'Sheet1!A18:B18',\n",
       "   'updatedRows': 1,\n",
       "   'updatedColumns': 2,\n",
       "   'updatedCells': 2},\n",
       "  {'spreadsheetId': '1IvgG1h9JZogSwbcx1sJyfOIiRpCztl7Ohef5J1JxANc',\n",
       "   'updatedRange': 'Sheet1!A19:B19',\n",
       "   'updatedRows': 1,\n",
       "   'updatedColumns': 2,\n",
       "   'updatedCells': 2},\n",
       "  {'spreadsheetId': '1IvgG1h9JZogSwbcx1sJyfOIiRpCztl7Ohef5J1JxANc',\n",
       "   'updatedRange': 'Sheet1!A20:B20',\n",
       "   'updatedRows': 1,\n",
       "   'updatedColumns': 2,\n",
       "   'updatedCells': 2},\n",
       "  {'spreadsheetId': '1IvgG1h9JZogSwbcx1sJyfOIiRpCztl7Ohef5J1JxANc',\n",
       "   'updatedRange': 'Sheet1!A21:B21',\n",
       "   'updatedRows': 1,\n",
       "   'updatedColumns': 2,\n",
       "   'updatedCells': 2}]}"
      ]
     },
     "execution_count": 76,
     "metadata": {},
     "output_type": "execute_result"
    }
   ],
   "source": [
    "cell_list = []\n",
    "row = 1\n",
    "for key, value in big_map.items():\n",
    "    values = big_map[key]\n",
    "    values = [key] + values\n",
    "    \n",
    "    # google sheets goes from A-Z\n",
    "    if (len(values) > 26):\n",
    "        values = values[0:25]\n",
    "\n",
    "\n",
    "    end_col = chr(ord('A') + len(values) - 1)\n",
    "    col_range = 'A' + str(row) + ':' + end_col + str(row)\n",
    "    row += 1\n",
    "    if (len(values) == 0):\n",
    "        col_range = 'A' + str(row)\n",
    "    curr_val = {'range': col_range, 'values': [values]}\n",
    "    cell_list.append(curr_val)\n",
    "\n",
    "# adding to spreadsheet\n",
    "worksheet.batch_update(cell_list)"
   ]
  },
  {
   "cell_type": "code",
   "execution_count": null,
   "id": "seven-trader",
   "metadata": {},
   "outputs": [],
   "source": []
  }
 ],
 "metadata": {
  "kernelspec": {
   "display_name": "Python 3 (ipykernel)",
   "language": "python",
   "name": "python3"
  },
  "language_info": {
   "codemirror_mode": {
    "name": "ipython",
    "version": 3
   },
   "file_extension": ".py",
   "mimetype": "text/x-python",
   "name": "python",
   "nbconvert_exporter": "python",
   "pygments_lexer": "ipython3",
   "version": "3.8.13"
  }
 },
 "nbformat": 4,
 "nbformat_minor": 5
}
